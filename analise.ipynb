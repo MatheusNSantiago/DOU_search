{
 "cells": [
  {
   "cell_type": "code",
   "execution_count": null,
   "metadata": {},
   "outputs": [],
   "source": [
    "%load_ext autoreload\n",
    "%autoreload 2\n",
    "\n",
    "from DOU import DOU\n",
    "from repository import inserir_publicacoes_sumulaDB, pegar_publicacoes_do_DOU_DB\n",
    "from datetime import date\n",
    "from IPython.core.display import display, HTML\n",
    "import warnings\n",
    "\n",
    "warnings.filterwarnings(\"ignore\")"
   ]
  },
  {
   "cell_type": "code",
   "execution_count": null,
   "metadata": {},
   "outputs": [],
   "source": [
    "df = pegar_publicacoes_do_DOU_DB()"
   ]
  },
  {
   "cell_type": "code",
   "execution_count": 215,
   "metadata": {},
   "outputs": [],
   "source": [
    "dou = DOU(\n",
    "    df[df.data == date(2021,12,23)]\n",
    ")\n",
    "r = dou.gerar_sumula()"
   ]
  },
  {
   "cell_type": "code",
   "execution_count": 216,
   "metadata": {},
   "outputs": [
    {
     "data": {
      "text/html": [
       "<div>\n",
       "<style scoped>\n",
       "    .dataframe tbody tr th:only-of-type {\n",
       "        vertical-align: middle;\n",
       "    }\n",
       "\n",
       "    .dataframe tbody tr th {\n",
       "        vertical-align: top;\n",
       "    }\n",
       "\n",
       "    .dataframe thead th {\n",
       "        text-align: right;\n",
       "    }\n",
       "</style>\n",
       "<table border=\"1\" class=\"dataframe\">\n",
       "  <thead>\n",
       "    <tr style=\"text-align: right;\">\n",
       "      <th></th>\n",
       "      <th>id</th>\n",
       "      <th>secao</th>\n",
       "      <th>tipo_normativo</th>\n",
       "      <th>data</th>\n",
       "      <th>escopo</th>\n",
       "      <th>titulo</th>\n",
       "      <th>ementa</th>\n",
       "      <th>conteudo</th>\n",
       "      <th>assinatura</th>\n",
       "      <th>pdf</th>\n",
       "      <th>id_materia</th>\n",
       "      <th>motivo</th>\n",
       "    </tr>\n",
       "  </thead>\n",
       "  <tbody>\n",
       "    <tr>\n",
       "      <th>284752</th>\n",
       "      <td>23478872</td>\n",
       "      <td>DO1</td>\n",
       "      <td>Portaria</td>\n",
       "      <td>2021-12-23</td>\n",
       "      <td>Ministério da Economia/Banco Central do Brasil</td>\n",
       "      <td>PORTARIA Nº 112.543, DE 22 DE DEZEMBRO DE 2021</td>\n",
       "      <td>Delega ao Presidente do Conselho de Controle d...</td>\n",
       "      <td>&lt;p&gt;&lt;/p&gt;&lt;p class=\"identifica\"&gt;PORTARIA Nº 112.5...</td>\n",
       "      <td>BRUNO SERRA FERNANDES</td>\n",
       "      <td>http://pesquisa.in.gov.br/imprensa/jsp/visuali...</td>\n",
       "      <td>14128885</td>\n",
       "      <td>Publicação do Banco Central no DO1 que não é i...</td>\n",
       "    </tr>\n",
       "  </tbody>\n",
       "</table>\n",
       "</div>"
      ],
      "text/plain": [
       "              id secao tipo_normativo        data  \\\n",
       "284752  23478872   DO1       Portaria  2021-12-23   \n",
       "\n",
       "                                                escopo  \\\n",
       "284752  Ministério da Economia/Banco Central do Brasil   \n",
       "\n",
       "                                                titulo  \\\n",
       "284752  PORTARIA Nº 112.543, DE 22 DE DEZEMBRO DE 2021   \n",
       "\n",
       "                                                   ementa  \\\n",
       "284752  Delega ao Presidente do Conselho de Controle d...   \n",
       "\n",
       "                                                 conteudo  \\\n",
       "284752  <p></p><p class=\"identifica\">PORTARIA Nº 112.5...   \n",
       "\n",
       "                   assinatura  \\\n",
       "284752  BRUNO SERRA FERNANDES   \n",
       "\n",
       "                                                      pdf id_materia  \\\n",
       "284752  http://pesquisa.in.gov.br/imprensa/jsp/visuali...   14128885   \n",
       "\n",
       "                                                   motivo  \n",
       "284752  Publicação do Banco Central no DO1 que não é i...  "
      ]
     },
     "execution_count": 216,
     "metadata": {},
     "output_type": "execute_result"
    }
   ],
   "source": [
    "r"
   ]
  },
  {
   "cell_type": "code",
   "execution_count": null,
   "metadata": {},
   "outputs": [],
   "source": [
    "pub = r.iloc[0]\n",
    "# pub.motivo = \"• Assinatura de um diretor do BC => [Bruno Serra Fernandes]\"\n",
    " \n",
    "print(\n",
    "    # f\"titulo -> {pub.titulo}\",\n",
    "    # f\"ementa -> {pub.ementa}\",\n",
    "    # f\"seção -> {pub.secao}\",\n",
    "    # f\"tipo normativo -> {pub.tipo_normativo}\",\n",
    "    f\"assinatura -> {pub.assinatura}\",\n",
    "    f\"motivo -> {pub.motivo}\",\n",
    "    f\"site --> {pub.pdf}\",\n",
    "    sep=\"\\n\",\n",
    ")\n",
    "display(HTML(pub.conteudo))"
   ]
  }
 ],
 "metadata": {
  "interpreter": {
   "hash": "9384521135e3a8215cbd64640a6b06983e5ca81ec14aad7d592b0dff6c77c2d6"
  },
  "kernelspec": {
   "display_name": "Python 3.9.7 64-bit ('.venv': venv)",
   "language": "python",
   "name": "python3"
  },
  "language_info": {
   "codemirror_mode": {
    "name": "ipython",
    "version": 3
   },
   "file_extension": ".py",
   "mimetype": "text/x-python",
   "name": "python",
   "nbconvert_exporter": "python",
   "pygments_lexer": "ipython3",
   "version": "3.10.1"
  },
  "orig_nbformat": 4
 },
 "nbformat": 4,
 "nbformat_minor": 2
}
