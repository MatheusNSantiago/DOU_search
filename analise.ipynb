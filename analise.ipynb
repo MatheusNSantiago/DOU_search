{
 "cells": [
  {
   "cell_type": "code",
   "execution_count": null,
   "metadata": {},
   "outputs": [],
   "source": [
    "%load_ext autoreload\n",
    "%autoreload 2\n",
    "\n",
    "from DOU import DOU\n",
    "from repository import PublicacoesDB\n",
    "from datetime import date\n",
    "from IPython.core.display import display, HTML\n",
    "import warnings\n",
    "import utils\n",
    "\n",
    "warnings.filterwarnings(\"ignore\")"
   ]
  },
  {
   "cell_type": "code",
   "execution_count": null,
   "metadata": {},
   "outputs": [],
   "source": [
    "with PublicacoesDB() as db:\n",
    "    df = db.query(\"SELECT * FROM publicacoes\")  "
   ]
  },
  {
   "cell_type": "code",
   "execution_count": null,
   "metadata": {},
   "outputs": [],
   "source": [
    "dou = DOU(\n",
    "    df,\n",
    "    date(2021,12,7),\n",
    ")"
   ]
  },
  {
   "cell_type": "code",
   "execution_count": null,
   "metadata": {},
   "outputs": [],
   "source": [
    "import utils\n",
    "\n",
    "# r = dou.gerar_sumula()\n",
    "\n",
    "r = dou.filtrar.keyword_search(\n",
    "    searches=[\n",
    "        utils.ColumnSearch(\n",
    "            dou.df.escopo,\n",
    "            [utils.Pattern(\"Secretaria Especial do Tesouro e Orçamento\")],\n",
    "        ),\n",
    "        utils.ColumnSearch(dou.df.titulo, [utils.Pattern(\"despacho\")]),\n",
    "    ]\n",
    ")\n",
    "r.sort_values(\"data\", ascending=False)"
   ]
  },
  {
   "cell_type": "code",
   "execution_count": 32,
   "metadata": {},
   "outputs": [
    {
     "name": "stdout",
     "output_type": "stream",
     "text": [
      "tipo normativo -> Despacho\n",
      "escopo -> Ministério da Economia/Secretaria Especial do Tesouro e Orçamento\n",
      "seção -> DO1\n",
      "pdf -> http://pesquisa.in.gov.br/imprensa/jsp/visualiza/index.jsp?data=07/12/2021&jornal=515&pagina=41\n",
      "data -> 2021-12-07\n",
      "motivo -> escopo contém \"Secretaria Especial do Tesouro e Orçamento\"  + titulo contém \"despacho\" \n"
     ]
    },
    {
     "data": {
      "text/html": [
       "<p class=\"identifica\">DESPACHO DE 6 DE DEZEMBRO DE 2021</p><p>Processo nº 17944.103684/2021-86</p><p>Interessado: Município de Antônio Prado (RS).</p><p>Assunto: Minutas de contrato de garantia, a ser celebrado entre a União e o Município de Antônio Prado (RS), com a interveniência da Caixa Econômica Federal, e de contrato de contragarantia, a ser celebrado entre a União e o Município, com a interveniência do Banco do Brasil S.A. e do Banco do Estado do Rio Grande do Sul e da Caixa Econômica Federal, ambos referentes ao Contrato de Financiamento Nº 0599889 - 13, a ser celebrado entre o Município e a Caixa Econômica Federal no valor de R$ 12.000.000,00 (doze milhões de reais), cujos recursos são destinados, no âmbito do Programa FINISA - Financiamento à Infraestrutura e ao Saneamento - Modalidade Apoio Financeiro, nos termos da Resolução CMN nº 4.589/2017, à aplicação em Despesa de Capital, quais sejam: aquisição de máquinas, equipamentos e veículos; aquisição de cabos de fibra ótica; pavimentação asfáltica, drenagem, macro drenagem e sinalização; e sistema fotovoltaico, observada a legislação vigente, em especial as disposições da Lei Complementar Federal nº 101, de 04 de maio de 2000.</p><p>Despacho: Aprovo o Parecer SEI nº 18367/2021/ME, de 25/11/2021, da Secretaria do Tesouro Nacional.</p><p>Tendo em vista as manifestações da Secretaria do Tesouro Nacional e da Procuradoria-Geral da Fazenda Nacional, certifico o cumprimento das condições estabelecidas no art. 1º da Portaria ME nº 198, de 25 de abril de 2019, ressalvada a necessidade de verificação, pela Procuradoria-Geral da Fazenda Nacional, do disposto nos incisos II e III do § 5º do art. 1º da Portaria MF nº 151, de 12 de abril de 2018, além da formalização do respectivo contrato de contragarantia.</p><p class=\"assina\">ESTEVES PEDRO COLNAGO JUNIOR</p><p class=\"cargo\">Secretário Especial</p>"
      ],
      "text/plain": [
       "<IPython.core.display.HTML object>"
      ]
     },
     "metadata": {},
     "output_type": "display_data"
    }
   ],
   "source": [
    "pub = r.iloc[0]\n",
    "\n",
    "print(\n",
    "    f\"tipo normativo -> {pub.tipo_normativo}\",\n",
    "    f\"escopo -> {pub.escopo}\",\n",
    "    f\"seção -> {pub.secao}\",\n",
    "    f\"pdf -> {pub.pdf}\",\n",
    "    f\"data -> {pub.data}\",\n",
    "    f\"motivo -> {pub.motivo}\",\n",
    "    sep=\"\\n\",\n",
    ")\n",
    "display(HTML(pub.conteudo))"
   ]
  }
 ],
 "metadata": {
  "interpreter": {
   "hash": "9384521135e3a8215cbd64640a6b06983e5ca81ec14aad7d592b0dff6c77c2d6"
  },
  "kernelspec": {
   "display_name": "Python 3.9.7 64-bit ('.venv': venv)",
   "language": "python",
   "name": "python3"
  },
  "language_info": {
   "codemirror_mode": {
    "name": "ipython",
    "version": 3
   },
   "file_extension": ".py",
   "mimetype": "text/x-python",
   "name": "python",
   "nbconvert_exporter": "python",
   "pygments_lexer": "ipython3",
   "version": "3.9.9"
  },
  "orig_nbformat": 4
 },
 "nbformat": 4,
 "nbformat_minor": 2
}
