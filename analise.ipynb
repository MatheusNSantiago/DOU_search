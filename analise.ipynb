{
 "cells": [
  {
   "cell_type": "code",
   "execution_count": null,
   "metadata": {},
   "outputs": [],
   "source": [
    "%load_ext autoreload\n",
    "%autoreload 2\n",
    "\n",
    "from DOU import DOU\n",
    "from repository import pegar_publicacoes_do_DOU_DB, inserir_publicacoes_sumulaDB\n",
    "from datetime import date\n",
    "from IPython.core.display import display, HTML\n",
    "import warnings\n",
    "\n",
    "warnings.filterwarnings(\"ignore\")"
   ]
  },
  {
   "cell_type": "code",
   "execution_count": null,
   "metadata": {},
   "outputs": [],
   "source": [
    "df = pegar_publicacoes_do_DOU_DB()"
   ]
  },
  {
   "cell_type": "code",
   "execution_count": null,
   "metadata": {},
   "outputs": [],
   "source": [
    "dou = DOU(\n",
    "    df,\n",
    "    date(2021, 12, 20),\n",
    ")\n",
    "r = dou.gerar_sumula(com_link_ingov=True)\n",
    "r"
   ]
  },
  {
   "cell_type": "code",
   "execution_count": null,
   "metadata": {},
   "outputs": [],
   "source": [
    "r.sort_values(\"data\", ascending= False)\n",
    "r."
   ]
  },
  {
   "cell_type": "code",
   "execution_count": null,
   "metadata": {},
   "outputs": [],
   "source": [
    "# sumuladb.inserir_publicacoes(r)"
   ]
  },
  {
   "cell_type": "code",
   "execution_count": null,
   "metadata": {},
   "outputs": [],
   "source": [
    "# pub = r.iloc[0]\n",
    "# print(\n",
    "#     f\"titulo -> {pub.titulo}\",\n",
    "#     f\"ementa -> {pub.ementa}\",\n",
    "#     f\"seção -> {pub.secao}\",\n",
    "#     f\"tipo normativo -> {pub.tipo_normativo}\",\n",
    "#     f\"assinatura -> {pub.assinatura}\",\n",
    "#     f\"motivo -> {pub.motivo}\",\n",
    "#     sep=\"\\n\",\n",
    "# )\n",
    "# display(HTML(pub.conteudo))"
   ]
  }
 ],
 "metadata": {
  "interpreter": {
   "hash": "9384521135e3a8215cbd64640a6b06983e5ca81ec14aad7d592b0dff6c77c2d6"
  },
  "kernelspec": {
   "display_name": "Python 3.9.7 64-bit ('.venv': venv)",
   "language": "python",
   "name": "python3"
  },
  "language_info": {
   "codemirror_mode": {
    "name": "ipython",
    "version": 3
   },
   "file_extension": ".py",
   "mimetype": "text/x-python",
   "name": "python",
   "nbconvert_exporter": "python",
   "pygments_lexer": "ipython3",
   "version": "3.10.1"
  },
  "orig_nbformat": 4
 },
 "nbformat": 4,
 "nbformat_minor": 2
}
