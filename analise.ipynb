{
 "cells": [
  {
   "cell_type": "code",
   "execution_count": 43,
   "metadata": {},
   "outputs": [
    {
     "name": "stdout",
     "output_type": "stream",
     "text": [
      "The autoreload extension is already loaded. To reload it, use:\n",
      "  %reload_ext autoreload\n"
     ]
    }
   ],
   "source": [
    "%load_ext autoreload\n",
    "%autoreload 2\n",
    "\n",
    "from src.dou import DOU \n",
    "import src.infrastructure.local_db as local_db\n",
    "from src.infrastructure.repository import pegar_publicacoes_dou_db_remote\n",
    "from datetime import date\n",
    "from IPython.core.display import display, HTML\n",
    "import warnings\n",
    "import pandas as pd\n",
    "from src.utils import DateRange\n",
    "\n",
    "warnings.filterwarnings(\"ignore\")"
   ]
  },
  {
   "cell_type": "code",
   "execution_count": 56,
   "metadata": {},
   "outputs": [],
   "source": [
    "dou = DOU(\n",
    "    date_range=DateRange.same_day(day=8),\n",
    ")"
   ]
  },
  {
   "cell_type": "code",
   "execution_count": 57,
   "metadata": {},
   "outputs": [
    {
     "data": {
      "text/html": [
       "<div>\n",
       "<style scoped>\n",
       "    .dataframe tbody tr th:only-of-type {\n",
       "        vertical-align: middle;\n",
       "    }\n",
       "\n",
       "    .dataframe tbody tr th {\n",
       "        vertical-align: top;\n",
       "    }\n",
       "\n",
       "    .dataframe thead th {\n",
       "        text-align: right;\n",
       "    }\n",
       "</style>\n",
       "<table border=\"1\" class=\"dataframe\">\n",
       "  <thead>\n",
       "    <tr style=\"text-align: right;\">\n",
       "      <th></th>\n",
       "      <th>id</th>\n",
       "      <th>secao</th>\n",
       "      <th>tipo_normativo</th>\n",
       "      <th>data</th>\n",
       "      <th>escopo</th>\n",
       "      <th>titulo</th>\n",
       "      <th>ementa</th>\n",
       "      <th>conteudo</th>\n",
       "      <th>assinatura</th>\n",
       "      <th>pdf</th>\n",
       "      <th>id_materia</th>\n",
       "      <th>motivo</th>\n",
       "    </tr>\n",
       "  </thead>\n",
       "  <tbody>\n",
       "  </tbody>\n",
       "</table>\n",
       "</div>"
      ],
      "text/plain": [
       "Empty DataFrame\n",
       "Columns: [id, secao, tipo_normativo, data, escopo, titulo, ementa, conteudo, assinatura, pdf, id_materia, motivo]\n",
       "Index: []"
      ]
     },
     "execution_count": 57,
     "metadata": {},
     "output_type": "execute_result"
    }
   ],
   "source": [
    "r = dou.gerar_sumula(com_link_ingov=True)\n",
    "r"
   ]
  },
  {
   "cell_type": "code",
   "execution_count": null,
   "metadata": {},
   "outputs": [],
   "source": [
    "from config import Endpoints\n",
    "\n",
    "enviar_sumula_para_o_teams(r, endpoint=Endpoints.FLOW_ENDPOINT)"
   ]
  },
  {
   "cell_type": "code",
   "execution_count": null,
   "metadata": {},
   "outputs": [],
   "source": [
    "pub = r.iloc[0]\n",
    "# for pub in [r.iloc[i] for i in range(len(r))]:\n",
    "print(\n",
    "    f\"titulo -> {pub.titulo}\",\n",
    "    # f\"ementa -> {pub.ementa}\",\n",
    "    f\"seção -> {pub.secao}\",\n",
    "    # f\"tipo normativo -> {pub.tipo_normativo}\",\n",
    "    # f\"assinatura -> {pub.assinatura}\",\n",
    "    f\"motivo -> {pub.motivo}\",\n",
    "    # f\"data -> {pub.data}\",\n",
    "    f\"site --> {pub.pdf}\",\n",
    "    sep=\"\\n\",\n",
    ")\n",
    "\n",
    "display(HTML(pub.conteudo))\n"
   ]
  },
  {
   "cell_type": "code",
   "execution_count": null,
   "metadata": {},
   "outputs": [],
   "source": [
    "# import re\n",
    "# from teste import x\n",
    "\n",
    "# d = DOU(r)\n",
    "# s = d.gerar_sumula()\n",
    "\n",
    "# pd.set_option(\"display.max_rows\", 101)\n",
    "\n",
    "\n",
    "# sucon_url_ids = set()\n",
    "# for secon_url in re.findall(\"\\((.+)\\)\", x):\n",
    "#     sucon_url_id = re.search(\"(\\d+)(?:#wrapper)?$\", secon_url).group(1)\n",
    "#     sucon_url_ids.add(sucon_url_id)\n",
    "\n",
    "\n",
    "# my_url_ids = set()\n",
    "# for my_url in s.pdf:\n",
    "#     my_url_id = re.search(\"(\\d+)(?:#wrapper)?$\", my_url).group(1)\n",
    "#     my_url_ids.add(my_url_id)\n",
    "\n",
    "# diff = sucon_url_ids.difference(my_url_ids)\n",
    "\n",
    "# diff = list(diff)\n",
    "\n",
    "\n",
    "# s.sort_values(\"data\", ascending=False).iloc[0].pdf"
   ]
  }
 ],
 "metadata": {
  "interpreter": {
   "hash": "9384521135e3a8215cbd64640a6b06983e5ca81ec14aad7d592b0dff6c77c2d6"
  },
  "kernelspec": {
   "display_name": "Python 3.9.7 64-bit ('.venv': venv)",
   "language": "python",
   "name": "python3"
  },
  "language_info": {
   "codemirror_mode": {
    "name": "ipython",
    "version": 3
   },
   "file_extension": ".py",
   "mimetype": "text/x-python",
   "name": "python",
   "nbconvert_exporter": "python",
   "pygments_lexer": "ipython3",
   "version": "3.9.9"
  },
  "orig_nbformat": 4
 },
 "nbformat": 4,
 "nbformat_minor": 2
}
