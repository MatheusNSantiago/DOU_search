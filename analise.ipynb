{
 "cells": [
  {
   "cell_type": "code",
   "execution_count": 3,
   "metadata": {},
   "outputs": [],
   "source": [
    "%load_ext autoreload\n",
    "%autoreload 2\n",
    "\n",
    "from DOU import DOU\n",
    "from repository import inserir_publicacoes_sumulaDB, pegar_publicacoes_do_DOU_DB\n",
    "from datetime import date\n",
    "from IPython.core.display import display, HTML\n",
    "import warnings\n",
    "\n",
    "warnings.filterwarnings(\"ignore\")"
   ]
  },
  {
   "cell_type": "code",
   "execution_count": 5,
   "metadata": {},
   "outputs": [],
   "source": [
    "df = pegar_publicacoes_do_DOU_DB()"
   ]
  },
  {
   "cell_type": "code",
   "execution_count": 9,
   "metadata": {},
   "outputs": [
    {
     "name": "stdout",
     "output_type": "stream",
     "text": [
      "Publicação do Banco Central no DO1 que não é instrução normativa\n",
      "Assinatura do Presidente do BC - \"Roberto De Oliveira Campos Neto\"\n",
      "|-----------------------------------------|\n",
      "Publicação do Banco Central no DO1 que não é instrução normativa\n",
      "Assinatura do Presidente do BC - \"Roberto De Oliveira Campos Neto\"\n",
      "|-----------------------------------------|\n",
      "Publicação do Banco Central no DO1 que não é instrução normativa\n",
      "Assinatura do Presidente do BC - \"Roberto De Oliveira Campos Neto\"\n",
      "|-----------------------------------------|\n",
      "Publicação do Banco Central no DO1 que não é instrução normativa\n",
      "Assinatura do Presidente do BC - \"Roberto De Oliveira Campos Neto\"\n",
      "|-----------------------------------------|\n",
      "Publicação do Banco Central no DO1 que não é instrução normativa\n",
      "Assinatura do Presidente do BC - \"Roberto De Oliveira Campos Neto\"\n",
      "|-----------------------------------------|\n",
      "Publicação do Banco Central no DO1 que não é instrução normativa\n",
      "|-----------------------------------------|\n",
      "Publicação do Banco Central no DO1 que não é instrução normativa\n",
      "Assinatura do Presidente do BC - \"Roberto De Oliveira Campos Neto\"\n",
      "|-----------------------------------------|\n",
      "\n",
      "|-----------------------------------------|\n",
      "Assinatura do Presidente do BC - \"Roberto De Oliveira Campos Neto\"\n",
      "|-----------------------------------------|\n"
     ]
    }
   ],
   "source": [
    "dou = DOU(\n",
    "    df[df.data == date(2021,12,20)]\n",
    ")\n",
    "\n",
    "r = dou.gerar_sumula()\n",
    "\n",
    "for p in r.iloc:\n",
    "    print(p.motivo)\n",
    "    print(\"|-----------------------------------------|\")"
   ]
  },
  {
   "cell_type": "code",
   "execution_count": 18,
   "metadata": {},
   "outputs": [
    {
     "data": {
      "text/html": [
       "<div>\n",
       "<style scoped>\n",
       "    .dataframe tbody tr th:only-of-type {\n",
       "        vertical-align: middle;\n",
       "    }\n",
       "\n",
       "    .dataframe tbody tr th {\n",
       "        vertical-align: top;\n",
       "    }\n",
       "\n",
       "    .dataframe thead th {\n",
       "        text-align: right;\n",
       "    }\n",
       "</style>\n",
       "<table border=\"1\" class=\"dataframe\">\n",
       "  <thead>\n",
       "    <tr style=\"text-align: right;\">\n",
       "      <th></th>\n",
       "      <th>id</th>\n",
       "      <th>secao</th>\n",
       "      <th>tipo_normativo</th>\n",
       "      <th>data</th>\n",
       "      <th>escopo</th>\n",
       "      <th>titulo</th>\n",
       "      <th>ementa</th>\n",
       "      <th>conteudo</th>\n",
       "      <th>assinatura</th>\n",
       "      <th>pdf</th>\n",
       "      <th>id_materia</th>\n",
       "      <th>motivo</th>\n",
       "    </tr>\n",
       "  </thead>\n",
       "  <tbody>\n",
       "    <tr>\n",
       "      <th>12031</th>\n",
       "      <td>23397282</td>\n",
       "      <td>DO1</td>\n",
       "      <td>Instrução Normativa</td>\n",
       "      <td>2021-12-20</td>\n",
       "      <td>Ministério da Economia/Secretaria Especial de ...</td>\n",
       "      <td>INSTRUÇÃO NORMATIVA SGP/SEDGG/ME Nº 113, DE 14...</td>\n",
       "      <td>Altera a Instrução Normativa nº 54, de 20 de m...</td>\n",
       "      <td>&lt;p class=\"identifica\"&gt;INSTRUÇÃO NORMATIVA SGP/...</td>\n",
       "      <td>LEONARDO JOSE MATTOS SULTANI</td>\n",
       "      <td>http://pesquisa.in.gov.br/imprensa/jsp/visuali...</td>\n",
       "      <td>14114830</td>\n",
       "      <td></td>\n",
       "    </tr>\n",
       "  </tbody>\n",
       "</table>\n",
       "</div>"
      ],
      "text/plain": [
       "             id secao       tipo_normativo        data  \\\n",
       "12031  23397282   DO1  Instrução Normativa  2021-12-20   \n",
       "\n",
       "                                                  escopo  \\\n",
       "12031  Ministério da Economia/Secretaria Especial de ...   \n",
       "\n",
       "                                                  titulo  \\\n",
       "12031  INSTRUÇÃO NORMATIVA SGP/SEDGG/ME Nº 113, DE 14...   \n",
       "\n",
       "                                                  ementa  \\\n",
       "12031  Altera a Instrução Normativa nº 54, de 20 de m...   \n",
       "\n",
       "                                                conteudo  \\\n",
       "12031  <p class=\"identifica\">INSTRUÇÃO NORMATIVA SGP/...   \n",
       "\n",
       "                         assinatura  \\\n",
       "12031  LEONARDO JOSE MATTOS SULTANI   \n",
       "\n",
       "                                                     pdf id_materia motivo  \n",
       "12031  http://pesquisa.in.gov.br/imprensa/jsp/visuali...   14114830         "
      ]
     },
     "execution_count": 18,
     "metadata": {},
     "output_type": "execute_result"
    }
   ],
   "source": [
    "r = r[r.id == \"23397282\"]\n",
    "\n",
    "dou = DOU(r)\n",
    "dou.gerar_sumula()"
   ]
  },
  {
   "cell_type": "code",
   "execution_count": 14,
   "metadata": {},
   "outputs": [
    {
     "name": "stdout",
     "output_type": "stream",
     "text": [
      "assinatura -> LEONARDO JOSE MATTOS SULTANI\n",
      "motivo -> \n",
      "site --> http://pesquisa.in.gov.br/imprensa/jsp/visualiza/index.jsp?data=20/12/2021&jornal=515&pagina=155\n"
     ]
    },
    {
     "data": {
      "text/html": [
       "<p class=\"identifica\">INSTRUÇÃO NORMATIVA SGP/SEDGG/ME Nº 113, DE 14 DE DEZEMBRO DE 2021</p><p class=\"ementa\">Altera a Instrução Normativa nº 54, de 20 de maio de 2021, que dispõe sobre os critérios e procedimentos gerais a serem observados pelos órgãos e entidades integrantes do Sistema de Pessoal Civil da Administração Federal (SIPEC), nas situações de paralisação decorrentes do exercício do direito de greve, para o desconto da remuneração correspondente aos dias de paralisação e para a elaboração do respectivo Termo de Acordo para compensação de horas não trabalhadas.</p><p>O SECRETÁRIO DE GESTÃO E DESEMPENHO DE PESSOAL, no uso das atribuições que lhe conferem os incisos I, alínea i, II e III do art. 138 do Anexo I ao Decreto nº 9.745, de 8 de abril de 2019, resolve:</p><p>Art. 1º A Instrução Normativa SGP/SEDGG/ME nº 54, de 20 de maio de 2021, passa a vigorar com a seguinte alteração:</p><p>Art. 6º ..................................................................................</p><p>Parágrafo único. A competência de que trata o caput poderá ser delegada a Secretário-Executivo, Secretário Especial ou a Secretário ocupante de cargo em comissão do Grupo-Direção e Assessoramento Superiores de nível seis ou autoridades equivalentes de órgão ou entidade integrante do SIPEC. (NR)\"</p><p>Art. 2º Esta Instrução Normativa entra em vigor na data de sua publicação.</p><p class=\"assina\">LEONARDO JOSÉ MATTOS SULTANI</p>"
      ],
      "text/plain": [
       "<IPython.core.display.HTML object>"
      ]
     },
     "metadata": {},
     "output_type": "display_data"
    }
   ],
   "source": [
    "pub = r.iloc[0]\n",
    "# pub.motivo = \"• Assinatura de um diretor do BC => [Bruno Serra Fernandes]\"\n",
    " \n",
    "print(\n",
    "    # f\"titulo -> {pub.titulo}\",\n",
    "    # f\"ementa -> {pub.ementa}\",\n",
    "    # f\"seção -> {pub.secao}\",\n",
    "    # f\"tipo normativo -> {pub.tipo_normativo}\",\n",
    "    f\"assinatura -> {pub.assinatura}\",\n",
    "    f\"motivo -> {pub.motivo}\",\n",
    "    f\"site --> {pub.pdf}\",\n",
    "    sep=\"\\n\",\n",
    ")\n",
    "display(HTML(pub.conteudo))"
   ]
  }
 ],
 "metadata": {
  "interpreter": {
   "hash": "9384521135e3a8215cbd64640a6b06983e5ca81ec14aad7d592b0dff6c77c2d6"
  },
  "kernelspec": {
   "display_name": "Python 3.9.7 64-bit ('.venv': venv)",
   "language": "python",
   "name": "python3"
  },
  "language_info": {
   "codemirror_mode": {
    "name": "ipython",
    "version": 3
   },
   "file_extension": ".py",
   "mimetype": "text/x-python",
   "name": "python",
   "nbconvert_exporter": "python",
   "pygments_lexer": "ipython3",
   "version": "3.10.1"
  },
  "orig_nbformat": 4
 },
 "nbformat": 4,
 "nbformat_minor": 2
}
