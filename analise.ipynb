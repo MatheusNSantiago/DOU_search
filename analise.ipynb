{
 "cells": [
  {
   "cell_type": "code",
   "execution_count": 3,
   "metadata": {},
   "outputs": [
    {
     "name": "stdout",
     "output_type": "stream",
     "text": [
      "The autoreload extension is already loaded. To reload it, use:\n",
      "  %reload_ext autoreload\n"
     ]
    }
   ],
   "source": [
    "%load_ext autoreload\n",
    "%autoreload 2\n",
    "\n",
    "from DOU import DOU\n",
    "from repository import PublicacoesDB\n",
    "from datetime import date\n",
    "from IPython.core.display import display, HTML\n",
    "import warnings\n",
    "import utils\n",
    "\n",
    "warnings.filterwarnings(\"ignore\")"
   ]
  },
  {
   "cell_type": "code",
   "execution_count": 4,
   "metadata": {},
   "outputs": [],
   "source": [
    "with PublicacoesDB() as db:\n",
    "    df = db.query(\"SELECT * FROM publicacoes\")  \n",
    "    # df = db.query(\"SELECT * FROM publicacoes LIMIT 50000\")  "
   ]
  },
  {
   "cell_type": "code",
   "execution_count": 18,
   "metadata": {},
   "outputs": [],
   "source": [
    "dou = DOU(\n",
    "    df,\n",
    "    date(2021,12,8),\n",
    ")"
   ]
  },
  {
   "cell_type": "code",
   "execution_count": 19,
   "metadata": {},
   "outputs": [
    {
     "data": {
      "text/html": [
       "<div>\n",
       "<style scoped>\n",
       "    .dataframe tbody tr th:only-of-type {\n",
       "        vertical-align: middle;\n",
       "    }\n",
       "\n",
       "    .dataframe tbody tr th {\n",
       "        vertical-align: top;\n",
       "    }\n",
       "\n",
       "    .dataframe thead th {\n",
       "        text-align: right;\n",
       "    }\n",
       "</style>\n",
       "<table border=\"1\" class=\"dataframe\">\n",
       "  <thead>\n",
       "    <tr style=\"text-align: right;\">\n",
       "      <th></th>\n",
       "      <th>id</th>\n",
       "      <th>secao</th>\n",
       "      <th>tipo_normativo</th>\n",
       "      <th>data</th>\n",
       "      <th>escopo</th>\n",
       "      <th>titulo</th>\n",
       "      <th>ementa</th>\n",
       "      <th>conteudo</th>\n",
       "      <th>assinatura</th>\n",
       "      <th>pdf</th>\n",
       "      <th>id_materia</th>\n",
       "      <th>motivo</th>\n",
       "    </tr>\n",
       "  </thead>\n",
       "  <tbody>\n",
       "    <tr>\n",
       "      <th>237872</th>\n",
       "      <td>23164199</td>\n",
       "      <td>DO2</td>\n",
       "      <td>Portaria</td>\n",
       "      <td>2021-12-08</td>\n",
       "      <td>Ministério da Economia/Banco Central do Brasil...</td>\n",
       "      <td>PORTARIA Nº 112.182, DE 7 DE DEZEMBRO DE 2021</td>\n",
       "      <td>None</td>\n",
       "      <td>&lt;p&gt;&lt;/p&gt;&lt;p class=\"identifica\"&gt;PORTARIA Nº 112.1...</td>\n",
       "      <td>Roberto de Oliveira Campos Neto</td>\n",
       "      <td>http://pesquisa.in.gov.br/imprensa/jsp/visuali...</td>\n",
       "      <td>14073469</td>\n",
       "      <td>Assinatura do presidente ou dos diretores do B...</td>\n",
       "    </tr>\n",
       "    <tr>\n",
       "      <th>240376</th>\n",
       "      <td>23178160</td>\n",
       "      <td>DO2</td>\n",
       "      <td>Portaria</td>\n",
       "      <td>2021-12-08</td>\n",
       "      <td>Ministério da Economia/Banco Central do Brasil...</td>\n",
       "      <td>PORTARIA Nº 112.184, DE 7 DE DEZEMBRO DE 2021</td>\n",
       "      <td>None</td>\n",
       "      <td>&lt;p&gt;&lt;/p&gt;&lt;p class=\"identifica\"&gt;PORTARIA Nº 112.1...</td>\n",
       "      <td>ROBERTO DE OLIVEIRA CAMPOS NETO</td>\n",
       "      <td>http://pesquisa.in.gov.br/imprensa/jsp/visuali...</td>\n",
       "      <td>14077361</td>\n",
       "      <td>Assinatura do presidente ou dos diretores do B...</td>\n",
       "    </tr>\n",
       "    <tr>\n",
       "      <th>240180</th>\n",
       "      <td>23177139</td>\n",
       "      <td>DO2</td>\n",
       "      <td>Portaria</td>\n",
       "      <td>2021-12-08</td>\n",
       "      <td>Ministério da Economia/Banco Central do Brasil...</td>\n",
       "      <td>PORTARIA DE PESSOAL COAF Nº 27, DE 7 DE DEZEMB...</td>\n",
       "      <td>None</td>\n",
       "      <td>&lt;p class=\"identifica\"&gt;PORTARIA DE PESSOAL COAF...</td>\n",
       "      <td>RICARDO LIAO</td>\n",
       "      <td>http://pesquisa.in.gov.br/imprensa/jsp/visuali...</td>\n",
       "      <td>14077130</td>\n",
       "      <td>Portaria assinada pelo pelo presidente do COAF</td>\n",
       "    </tr>\n",
       "  </tbody>\n",
       "</table>\n",
       "</div>"
      ],
      "text/plain": [
       "              id secao tipo_normativo        data  \\\n",
       "237872  23164199   DO2       Portaria  2021-12-08   \n",
       "240376  23178160   DO2       Portaria  2021-12-08   \n",
       "240180  23177139   DO2       Portaria  2021-12-08   \n",
       "\n",
       "                                                   escopo  \\\n",
       "237872  Ministério da Economia/Banco Central do Brasil...   \n",
       "240376  Ministério da Economia/Banco Central do Brasil...   \n",
       "240180  Ministério da Economia/Banco Central do Brasil...   \n",
       "\n",
       "                                                   titulo ementa  \\\n",
       "237872      PORTARIA Nº 112.182, DE 7 DE DEZEMBRO DE 2021   None   \n",
       "240376      PORTARIA Nº 112.184, DE 7 DE DEZEMBRO DE 2021   None   \n",
       "240180  PORTARIA DE PESSOAL COAF Nº 27, DE 7 DE DEZEMB...   None   \n",
       "\n",
       "                                                 conteudo  \\\n",
       "237872  <p></p><p class=\"identifica\">PORTARIA Nº 112.1...   \n",
       "240376  <p></p><p class=\"identifica\">PORTARIA Nº 112.1...   \n",
       "240180  <p class=\"identifica\">PORTARIA DE PESSOAL COAF...   \n",
       "\n",
       "                             assinatura  \\\n",
       "237872  Roberto de Oliveira Campos Neto   \n",
       "240376  ROBERTO DE OLIVEIRA CAMPOS NETO   \n",
       "240180                     RICARDO LIAO   \n",
       "\n",
       "                                                      pdf id_materia  \\\n",
       "237872  http://pesquisa.in.gov.br/imprensa/jsp/visuali...   14073469   \n",
       "240376  http://pesquisa.in.gov.br/imprensa/jsp/visuali...   14077361   \n",
       "240180  http://pesquisa.in.gov.br/imprensa/jsp/visuali...   14077130   \n",
       "\n",
       "                                                   motivo  \n",
       "237872  Assinatura do presidente ou dos diretores do B...  \n",
       "240376  Assinatura do presidente ou dos diretores do B...  \n",
       "240180     Portaria assinada pelo pelo presidente do COAF  "
      ]
     },
     "execution_count": 19,
     "metadata": {},
     "output_type": "execute_result"
    }
   ],
   "source": [
    "r = dou.gerar_sumula()\n",
    "\n",
    "r = r.sort_values(\"data\", ascending=False)\n",
    "r"
   ]
  },
  {
   "cell_type": "code",
   "execution_count": null,
   "metadata": {},
   "outputs": [],
   "source": []
  },
  {
   "cell_type": "code",
   "execution_count": 284,
   "metadata": {},
   "outputs": [
    {
     "name": "stdout",
     "output_type": "stream",
     "text": [
      "tipo normativo -> Portaria\n",
      "escopo -> Ministério do Meio Ambiente/Instituto Chico Mendes de Conservação da Biodiversidade\n",
      "seção -> DO1\n",
      "pdf -> http://pesquisa.in.gov.br/imprensa/jsp/visualiza/index.jsp?data=29/10/2021&jornal=515&pagina=83\n",
      "data -> 2021-10-29\n"
     ]
    },
    {
     "data": {
      "text/html": [
       "<p class=\"identifica\">PORTARIA Nº 658, DE 22 DE OUTUBRO DE 2021</p><p class=\"ementa\">Aprova, nos termos e condições definidos no anexo da presente Portaria, o Plano de Manejo Florestal Sustentável Comunitário, que tem como detentora a Associação de Desenvolvimento Social e Cultural dos Trabalhadores Rurais do Rio Aruruzinho - ATRA em área no interior da Resex Verde para Sempre (Processo: 02121.000002/2020-18).</p><p>O PRESIDENTE DO INSTITUTO CHICO MENDES DE CONSERVAÇÃO DA BIODIVERSIDADE - ICMBio, no uso das competências atribuídas pelo artigo 24 do Anexo I do Decreto nº 10.234, de 11 de fevereiro de 2020 e pela Portaria nº 451, de 21 de setembro de 2020, da Casa Civil da Presidência da República, publicada no Diário Oficial da União em 22 de setembro de 2020,</p><p>Considerando a Lei nº 9.784, de 29 de janeiro de 1999, que regula o processo administrativo no âmbito da Administração Pública Federal;</p><p>Considerando a Lei nº 9.985, de 18 de julho de 2000, que regulamenta o artigo 225, § 1º, incisos I, II, III e VII da Constituição Federal, institui o Sistema Nacional de Unidades de Conservação da Natureza e dá outras providências;</p><p>Considerando a Lei nº 12.651, de 25 de maio de 2012, que dispõe sobre a proteção da vegetação nativa; altera as Leis nos6.938, de 31 de agosto de 1981, 9.393, de 19 de dezembro de 1996, e 11.428, de 22 de dezembro de 2006, revoga as Leis nos4.771, de 15 de setembro de 1965, e 7.754, de 14 de abril de 1989, e a Medida Provisória no2.166-67, de 24 de agosto de 2001; e dá outras providências;</p><p>Considerando a Instrução Normativa do ICMBio nº 16/2011, que regula, no âmbito do ICMBio, as diretrizes e os procedimentos administrativos para a aprovação do Plano de Manejo Florestal Sustentável (PMFS) comunitário para exploração de recursos madeireiros no interior de Reserva Extrativista, Reserva de Desenvolvimento Sustentável e Floresta Nacional;</p><p>Considerando que, por determinação da Lei 12.651/2012 e Instrução Normativa Ibama Nº 21/2014, atualmente a gestão e os procedimentos de licenciamento dos PMFS são realizados no Sistema Nacional de Controle de Origem dos Produtos florestais - Sinaflor; e</p><p>Considerando os documentos e análises técnicas que compõem o processo administrativo nº 02121.000002/2020-18, resolve:</p><p>Art. 1º Aprovar, nos termos e condições definidos no Anexo I desta portaria, o Plano de Manejo Florestal Sustentável Comunitário tendo por detentora a Associação de Desenvolvimento Social e Cultural dos Trabalhadores Rurais do Rio Aruruzinho - ATRA, para uma área total de manejo de 12.673,1746 hectares, localizada no interior da Reserva Extrativista Verde Para Sempre.</p><p>Art. 2º Esta aprovação não autoriza o início das atividades de manejo e não autoriza a exploração florestal.</p><p>Art. 3º Esta Portaria entra em vigor na data de sua publicação.</p><p class=\"assina\">FERNANDO CESAR LORENCINI</p><p>ANEXO I</p><p /><p></p><table><tr /><tr><td rowspan=\"1\" colspan=\"1\"><p>Aprovação de PMFS Comunitário nº: 04/2021</p></td><td rowspan=\"1\" colspan=\"1\"><p>Processo nº: 02121.000002/2020-18</p></td></tr><tr><td rowspan=\"1\" colspan=\"2\"><p>O Instituto Chico Mendes de Conservação da Biodiversidade, seguindo os tramites da Instrução Normativa ICMBio nº16/2011, de 04 de agosto de 2011, que regulamenta, no âmbito do Instituto Chico Mendes, as diretrizes e as diretrizes e os procedimentos administrativos para a aprovação do Plano de Manejo Florestal Sustentável (PMFS) comunitário para exploração de recursos madeireiros no interior de Reserva Extrativista, Reserva de Desenvolvimento Sustentável e Floresta Nacional e atendendo ao Art. 18 da Instrução Normativa MMA Nº 05/2006, APROVA O PLANO DE MANEJO FLORESTAL SUSTENTÁVEL COMUNITÁRIO, em Unidade de Conservação federal abaixo identificado.</p></td></tr></table><p /><p></p><table><tr /><tr><td rowspan=\"1\" colspan=\"2\"><p>Unidade de Conservação: Reserva Extrativista Verde Para Sempre</p><p>Ato de Criação: Decreto s/n de 08 de novembro de 2004.</p></td></tr><tr><td rowspan=\"1\" colspan=\"2\"><p>Instituição Detentora: Associação de Desenvolvimento Social e Cultural dos Trabalhadores Rurais do Rio Aruruzinho - ATRA.</p></td></tr><tr><td rowspan=\"1\" colspan=\"1\"><p>Representante Legal: Jacinara Amaral Gama</p></td><td rowspan=\"1\" colspan=\"1\"><p>CNPJ: 35.309.677/0001-90</p></td></tr><tr><td rowspan=\"1\" colspan=\"2\"><p>Endereço: Comunidade Santa Maria s/n, Rio Aruruzinho, Zona Rural - Porto de Moz/PA, CEP: 68.330-000</p></td></tr><tr><td rowspan=\"1\" colspan=\"2\"><p>Telefones de contato: (93) 8413-1270</p></td></tr><tr><td rowspan=\"1\" colspan=\"1\"><p>Responsável Técnico de elaboração:</p><p>Saymon Roberto Pontes da Fonseca</p></td><td rowspan=\"1\" colspan=\"1\"><p>CREA/RNP: 151525645-6</p></td></tr><tr><td rowspan=\"1\" colspan=\"1\" /><td rowspan=\"1\" colspan=\"1\"><p>Registro no Conselho Profissional nº: PA20210621044</p><p /><p></p></td></tr><tr /><tr><td rowspan=\"1\" colspan=\"2\"><p>Identificação da localidade: Unidade de Manejo Florestal, inserida na Zona de Uso Comunitário da Reserva Extrativista Verde Para Sempre.</p></td></tr><tr><td rowspan=\"1\" colspan=\"2\"><p>Área total de manejo: 12.673,1746 ha.</p></td></tr><tr><td rowspan=\"1\" colspan=\"2\"><p>Ciclo de corte: 25 anos.</p></td></tr><tr><td rowspan=\"1\" colspan=\"2\"><p>Volume máximo a ser extraído por hectare por ciclo: 21,43 m³/ha.</p></td></tr><tr><td rowspan=\"1\" colspan=\"2\"><p>Ambiente florestal predominante: Floresta primária de terra firme.</p></td></tr><tr><td rowspan=\"1\" colspan=\"2\"><p>Condicionantes:</p><p>1. Observando o Art. 14, parágrafo 6º da Instrução Normativa ICMBio nº 16, de 04 de agosto de 2011, os contratos referentes a execução do PMFS Comunitário deverão ser encaminhados previamente, antes de serem firmados, ao chefe da Reserva Extrativista Verde para Sempre para ciência e respeitar os seguintes preceitos: I - refletir relações econômicas justas em que os valores praticados no mercado sejam respeitados; II - incentivar o emprego de mão de obra de população tradicional beneficiária</p></td></tr><tr><td rowspan=\"1\" colspan=\"2\"><p>da Unidade de Conservação; III - fortalecer a sustentabilidade econômica do Manejo Florestal Comunitário\". Para tal recomendamos constar da Aprovação do PMFS condicionante sobre o tema;</p><p>2. Deverá ser encaminhado, ao chefe da Reserva Extrativista Verde para Sempre, cronograma de execução de quaisquer atividades de campo, para acompanhamento e vistorias pelo ICMBio; e</p><p>3. Observar resoluções do Conselho Deliberativo da Unidade, pertinentes a atividade de manejo Florestal Sustentável Comunitário, quando houver.</p></td></tr></table><p>Esta aprovação não autoriza o início das atividades de manejo e não autoriza a exploração florestal.</p><p></p>"
      ],
      "text/plain": [
       "<IPython.core.display.HTML object>"
      ]
     },
     "metadata": {},
     "output_type": "display_data"
    }
   ],
   "source": [
    "pub = r.iloc[0]\n",
    "\n",
    "print(\n",
    "    f\"tipo normativo -> {pub.tipo_normativo}\",\n",
    "    f\"escopo -> {pub.escopo}\",\n",
    "    f\"seção -> {pub.secao}\",\n",
    "    f\"pdf -> {pub.pdf}\",\n",
    "    f\"data -> {pub.data}\",\n",
    "    # f\"motivo -> {pub.motivo}\",\n",
    "    sep=\"\\n\",\n",
    ")\n",
    "display(HTML(pub.conteudo))"
   ]
  }
 ],
 "metadata": {
  "interpreter": {
   "hash": "9384521135e3a8215cbd64640a6b06983e5ca81ec14aad7d592b0dff6c77c2d6"
  },
  "kernelspec": {
   "display_name": "Python 3.9.7 64-bit ('.venv': venv)",
   "language": "python",
   "name": "python3"
  },
  "language_info": {
   "codemirror_mode": {
    "name": "ipython",
    "version": 3
   },
   "file_extension": ".py",
   "mimetype": "text/x-python",
   "name": "python",
   "nbconvert_exporter": "python",
   "pygments_lexer": "ipython3",
   "version": "3.9.9"
  },
  "orig_nbformat": 4
 },
 "nbformat": 4,
 "nbformat_minor": 2
}
