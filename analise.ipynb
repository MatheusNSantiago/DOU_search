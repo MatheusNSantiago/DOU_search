{
 "cells": [
  {
   "cell_type": "code",
   "execution_count": 1,
   "metadata": {},
   "outputs": [],
   "source": [
    "%load_ext autoreload\n",
    "%autoreload 2\n",
    "\n",
    "from DOU import DOU\n",
    "from repository import PublicacoesDB, SumulaDB\n",
    "from datetime import date\n",
    "from IPython.core.display import display, HTML\n",
    "import warnings\n",
    "\n",
    "warnings.filterwarnings(\"ignore\")"
   ]
  },
  {
   "cell_type": "code",
   "execution_count": 2,
   "metadata": {},
   "outputs": [],
   "source": [
    "with PublicacoesDB() as db:\n",
    "    # df = db.query(\"SELECT * FROM publicacoes LIMIT 9000\")\n",
    "    df = db.query(\"SELECT * FROM publicacoes\")  \n",
    "sumuladb = SumulaDB()"
   ]
  },
  {
   "cell_type": "code",
   "execution_count": 115,
   "metadata": {},
   "outputs": [
    {
     "name": "stdout",
     "output_type": "stream",
     "text": [
      "265337    Assinatura do Presidente do BC - \"Roberto De O...\n",
      "265442    Assinatura do Presidente do BC - \"Roberto De O...\n",
      "266963    Assinatura de um diretor do BC - \"Bruno Serra ...\n",
      "266965    Assinatura do Presidente do BC - \"Roberto De O...\n",
      "Name: motivo, dtype: object \n",
      "|===> True None\n",
      "Publicação do Banco Central no DO1 que não é instrução normativa\n"
     ]
    }
   ],
   "source": [
    "dou = DOU(\n",
    "    df[df.data == date(2021,12,17)]\n",
    ")\n",
    "\n",
    "r = dou.gerar_sumula()\n",
    "print(r.iloc[0].motivo)"
   ]
  },
  {
   "cell_type": "code",
   "execution_count": 113,
   "metadata": {},
   "outputs": [
    {
     "name": "stdout",
     "output_type": "stream",
     "text": [
      "assinatura -> BRUNO SERRA FERNANDES\n",
      "motivo -> Publicação do Banco Central no DO1 que não é instrução normativa\n"
     ]
    },
    {
     "data": {
      "text/html": [
       "<p></p><p class=\"identifica\">RESOLUÇÃO BCB Nº 175, DE 15 DE DEZEMBRO DE 2021</p><p class=\"ementa\">Disciplina o redesconto do Banco Central do Brasil na modalidade compra com compromisso de revenda, intradia e de um dia útil, com instituições financeiras titulares de conta Reservas Bancárias e de Conta de Liquidação, no âmbito do Sistema de Transferência de Reservas (STR), e a linha de redesconto para instituições financeiras titulares de Conta Pagamentos Instantâneos (Conta PI), no âmbito do Sistema de Pagamentos Instantâneos (SPI).</p><p>A Diretoria Colegiada do Banco Central do Brasil, em sessão realizada em 14 de dezembro de 2021, com base no art. 10, inciso V, da Lei nº 4.595, de 31 de dezembro de 1964, no art. 28, § 2º, da Lei Complementar nº 101, de 4 de maio de 2000, e na Lei nº 10.214, de 27 de março de 2001, resolve:</p><p>Art. 1º Esta Resolução disciplina o redesconto do Banco Central do Brasil na modalidade compra com compromisso de revenda de títulos públicos federais registrados no Sistema Especial de Liquidação e de Custódia (Selic), intradia e de um dia útil, com instituições financeiras titulares de conta Reservas Bancárias e de Conta de Liquidação, no âmbito do Sistema de Transferência de Reservas (STR), e a linha de redesconto para instituições financeiras titulares de Conta Pagamentos Instantâneos (Conta PI), no âmbito do Sistema de Pagamentos Instantâneos (SPI), nos termos e condições do Regulamento anexo.</p><p>Art. 2º Ficam o Departamento de Operações Bancárias e de Sistema de Pagamentos (Deban) e o Departamento de Operações do Mercado Aberto (Demab) autorizados a divulgar, conjuntamente, as características dos títulos públicos federais que serão aceitos nas operações de que trata o art. 1º, a estabelecer metodologia de cálculo para apuração do preço de revenda e do valor financeiro das operações, bem como a baixar normas e adotar medidas necessárias à execução do disposto nesta Resolução, inclusive estabelecer horários para a realização e o pagamento das operações.</p><p>Art. 3º A Circular nº 3.105, de 5 de abril de 2002, passa a vigorar com a seguinte alteração:</p><p>\"Art. 1º .................................................................................</p><p>Parágrafo único. O regulamento de que trata o caput não se aplica ao Redesconto do Banco Central na modalidade compra com compromisso de revenda de títulos públicos federais registrados no Sistema Especial de Liquidação e de Custódia (Selic), intradia e de um dia útil, com instituições financeiras titulares de conta Reservas Bancárias e de Conta de Liquidação, no âmbito do Sistema de Transferência de Reservas (STR), e a linha de redesconto para instituições financeiras titulares de Conta Pagamentos Instantâneos (Conta PI), no âmbito do Sistema de Pagamentos Instantâneos (SPI).\" (NR)</p><p>Art. 4º O Regulamento anexo à Circular nº 3.105, de 2002, passa a vigorar com as seguintes alterações:</p><p>\"Art. 1º O acesso ao Redesconto do Banco Central de que trata este regulamento é facultado aos bancos comerciais, às caixas econômicas e aos bancos de investimento e múltiplos titulares de conta Reservas Bancárias.\" (NR)</p><p>\"Art. 2º As operações de Redesconto do Banco Central são concedidas, a exclusivo critério do Banco Central do Brasil, por solicitação da instituição financeira interessada.\" (NR)</p><p>\"Art. 6º .........................................................................</p><p>.......................................................................................</p><p>II - preço de revenda: preço de compra adicionado de valor correspondente à aplicação, sobre o preço de compra e pelo prazo da operação, da taxa obtida pela composição da Taxa Selic, definida consoante a regulamentação em vigor, apurada para cada dia útil do período da operação, com taxa fixada pela Diretoria Colegiada do Banco Central do Brasil e válida na data da realização da operação.</p><p>.............................................................................\" (NR)</p><p>Art. 5º A Circular nº 3.631, de 21 de fevereiro de 2013, passa a vigorar com a seguinte alteração:</p><p>\"Art. 1º Ficam fixados os seguintes percentuais de acréscimo à Taxa Selic, para as operações de Redesconto do Banco Central de que tratam os incisos III e IV do art. 4º do Regulamento anexo à Circular nº 3.105, de 5 de abril de 2002:</p><p>.............................................................................\" (NR)</p><p>Art. 6º Ficam revogados:</p><p>I - os arts. 1º, 2º, 3º, 4º, 5º e 6º da Resolução nº 4.002, de 25 de agosto de 2011;</p><p>II - os seguintes dispositivos da Resolução nº 4.191, de 28 de fevereiro de 2013:</p><p>a) os arts. 1º, 2º, 3º e 4º; e</p><p>b) os arts. 6º e 7º;</p><p>III - a Resolução nº 4.241, de 28 de junho de 2013;</p><p>IV - a Resolução nº 4.781, de 20 de fevereiro de 2020;</p><p>V - os seguintes dispositivos do Regulamento anexo à Circular nº 3.105, de 2002:</p><p>a) o art. 1º, parágrafo único;</p><p>b) o art. 4º, incisos I e II;</p><p>c) o art. 4º, § 1º;</p><p>d) o art. 5º, parágrafo único;</p><p>e) o art. 6º, inciso II, alíneas \"a\" e \"b\"; e</p><p>f) os arts. 11 e 11-A;</p><p>VI - o art. 1º, inciso I, da Circular nº 3.631, de 2013; e</p><p>VII - a Resolução BCB nº 20, de 1º de outubro de 2020.</p><p>Art. 7º Esta Resolução entra em vigor em 3 de janeiro de 2022.</p><p class=\"assina\">BRUNO SERRA FERNANDES</p><p class=\"cargo\">Diretor de Política Monetária</p><p>ANEXO</p><p>REGULAMENTO</p><p>CAPÍTULO I</p><p>DAS DEFINIÇÕES</p><p>Art. 1º Para os efeitos deste Regulamento, as expressões e os termos relacionados são definidos como segue:</p><p>I - operação de redesconto: compra e venda de títulos públicos federais registrados no Sistema Especial de Liquidação e de Custódia (Selic), na qual figuram o Banco Central do Brasil, como comprador, e a instituição financeira, como vendedora, com a assunção, respectivamente, dos compromissos de revenda e de recompra;</p><p>II - redesconto no âmbito do Sistema de Transferência de Reservas (STR): operação de redesconto liquidada no STR;</p><p>III - redesconto no âmbito do Sistema de Pagamentos Instantâneos (SPI): operação de redesconto liquidada no SPI;</p><p>IV - operação intradia: compra com compromisso de revenda em que a compra e a correspondente revenda ocorrem no próprio dia em que foram contratadas; e</p><p>V - operação de um dia útil: compra com compromisso de revenda em que a compra e a correspondente revenda ocorrem com diferença de um dia útil do dia em que foram contratadas.</p><p>CAPÍTULO II</p><p>DO ACESSO E DAS MODALIDADES</p><p>Art. 2º O acesso ao redesconto no âmbito do STR na modalidade compra com compromisso de revenda, intradia e de um dia útil, é facultado às instituições financeiras titulares de conta Reservas Bancárias ou de Conta de Liquidação.</p><p>Art. 3º O acesso ao redesconto no âmbito do SPI é facultado às instituições financeiras titulares de Conta Pagamentos Instantâneos (Conta PI), na modalidade compra com compromisso de revenda.</p><p>Art. 4º Compra com compromisso de revenda, para efeito do disposto neste Regulamento, é a compra de título, pelo Banco Central do Brasil, com compromisso de revenda, conjugadamente com a venda de título, pela instituição financeira, com compromisso de recompra.</p><p>Art. 5º As operações de redesconto de que trata este Regulamento serão realizadas por meio de operações de compra com compromisso de revenda de títulos públicos federais registrados no Selic.</p><p>Art. 6º As operações de redesconto de que trata este Regulamento têm por objetivo:</p><p>I - o atendimento das necessidades de liquidez ao longo do dia ou decorrentes de descasamento de curtíssimo prazo no fluxo de caixa da instituição participante do STR; ou</p><p>II - o provimento de liquidez, fora do horário regular de operações no STR, a ser utilizada para o curso das transferências entre clientes no âmbito do SPI.</p><p>Art. 7º As operações de que trata este Regulamento são concedidas, a exclusivo critério do Banco Central do Brasil, mediante solicitação da instituição financeira interessada, ressalvada a concessão automática associada à liquidação de operação de redesconto intradia, no âmbito do STR, não liquidada ao término do horário de funcionamento do STR.</p><p>CAPÍTULO III</p><p>DOS TÍTULOS PÚBLICOS FEDERAIS</p><p>Art. 8º Podem ser objeto das operações de redesconto de que trata este Regulamento os títulos públicos federais registrados no Selic que integrem a posição de custódia própria da instituição e que não sofram restrição à negociação.</p><p>§ 1º O Banco Central do Brasil divulgará os títulos públicos federais que serão aceitos nas operações de que trata este Regulamento.</p><p>§ 2º Não serão aceitos títulos que tenham data de pagamento de resgate coincidente com o vencimento da operação de redesconto no âmbito do STR.</p><p>§ 3º Não serão aceitos títulos que possuam pagamento de resgate, juros ou amortização coincidente com o vencimento da operação de redesconto no âmbito do SPI.</p><p>Art. 9º É admissível, nas operações de redesconto no âmbito do STR, nos termos do Regulamento do Selic, a realização de operações com o mesmo título público federal, nas seguintes hipóteses de associação:</p><p>I - operação de compra, pelo Banco Central do Brasil, com compromisso de revenda intradia, associada com:</p><p>a) a compra definitiva ou com compromisso de revenda;</p><p>b) a liberação, por câmara ou prestador de serviço de compensação e de liquidação, de título anteriormente entregue como garantia por instituição financeira, condicionada à liquidação, por intermédio do STR, de ordem indireta de transferência de fundo de igual valor, emitida pela mesma instituição financeira a favor da câmara ou do prestador de serviços de compensação e de liquidação; ou</p><p>c) o resultado multilateral credor em títulos, advindo de negociações ocorridas em câmara ou prestador de serviço de compensação e de liquidação;</p><p>II - pagamento da operação, ao Banco Central do Brasil, associado com:</p><p>a) a venda definitiva ou com compromisso de recompra;</p><p>b) o resultado financeiro multilateral credor, advindo de negociações de títulos ocorridas em câmara ou prestador de serviço de compensação e de liquidação;</p><p>III - operação de redesconto do Banco Central do Brasil, exceto intradia, com o pagamento de operação de redesconto do Banco Central do Brasil da mesma modalidade.</p><p>Parágrafo único. A associação prevista no inciso III não é permitida quando o título objeto da operação possuir resgate no dia útil seguinte.</p><p>CAPÍTULO IV</p><p>DOS PARÂMETROS DE NEGOCIAÇÃO</p><p>Art. 10. Nas operações de que trata este Regulamento, serão observados os seguintes parâmetros de negociação:</p><p>I - preço de compra: correspondente ao preço unitário (PU) do título para a data da contratação divulgado diariamente pelo Banco Central do Brasil;</p><p>II - preço de revenda:</p><p>a) na operação intradia no âmbito do STR: igual ao respectivo preço de compra;</p><p>b) na operação de um dia útil no âmbito do STR: correspondente ao preço de compra adicionado de valor correspondente à aplicação, sobre o preço de compra, da taxa obtida pela composição da Taxa Selic, definida consoante a regulamentação em vigor, apurada para o dia da contratação da operação, com acréscimo de 0,35% a.a. (trinta e cinco centésimos por cento ao ano); e</p><p>c) na operação de redesconto do âmbito do SPI: correspondente ao preço de compra adicionado de valor correspondente à aplicação, sobre o preço de compra, de percentual equivalente à 90% (noventa por cento) da Taxa Selic, definida consoante a regulamentação em vigor, apurada para o dia da contratação da operação, e válido na data da realização da operação.</p><p>CAPÍTULO V</p><p>DOS PROCEDIMENTOS OPERACIONAIS</p><p>Seção I</p><p>Das operações de redesconto no âmbito do STR</p><p>Art. 11. As operações intradia e de um dia útil serão realizadas por intermédio de mensagens específicas constantes do Catálogo de Serviços do SFN.</p><p>Art. 12. As operações de que trata esta Seção cujo compromisso de recompra não seja liquidado pela instituição financeira até o término do horário de funcionamento do STR da data de vencimento do compromisso serão consideradas inadimplidas.</p><p>§ 1º Os títulos objeto das operações inadimplidas, nos termos deste artigo, serão incorporados à carteira própria do Banco Central do Brasil e vendidos em leilão.</p><p>§ 2º O eventual resultado negativo para o Banco Central do Brasil na venda desses títulos, apurado em leilão, deverá ser ressarcido pela instituição contraparte da operação inadimplida.</p><p>Art. 13. A operação na modalidade compra com compromisso de revenda intradia não liquidada ao término do horário de funcionamento do STR será liquidada automaticamente pelo Banco Central do Brasil, no mesmo dia, associada com a simultânea concessão de nova operação de mesma natureza e com prazo de um dia útil.</p><p>§ 1º Na ocorrência de impedimento para a efetivação da liquidação automática de que trata o caput, aplica-se o disposto no art. 12 deste Regulamento.</p><p>§ 2º O disposto no caput não se aplica às operações intradia contratadas no dia útil imediatamente anterior ao pagamento do resgate do título objeto da operação, hipótese na qual a operação intradia não liquidada ao término do horário de funcionamento do STR será considerada inadimplida, nos termos do art. 12 deste Regulamento.</p><p>Seção II</p><p>Das operações de redesconto no âmbito do SPI</p><p>Art. 14. O registro da solicitação das operações de que trata esta Seção deve ser realizado por meio de mensagem específica do Catálogo de Serviços do SFN enviada pela instituição financeira ao Selic durante o horário regular de operações no STR para liquidação de ordens de transferência de fundos ou durante a janela adicional para aportes em Conta PI, nos termos do Regulamento do STR.</p><p>§ 1º O horário regular de operações no STR, de que trata o caput, é, ordinariamente, nos dias considerados úteis para fins de operações praticadas no mercado financeiro, das 6h30 às 18h30 (horário de Brasília), e, no dia 24 de dezembro, se dia útil para fins de operações realizadas no mercado financeiro, e no último dia útil do ano, das 6h30 às 13h.</p><p>§ 2º A janela adicional para aportes em Conta PI tem início após o fechamento do horário regular de operações no STR, de que trata o § 1º deste artigo, e encerra-se, ordinariamente, às 19h, e, no dia 24 de dezembro, se dia útil para fins de operações realizadas no mercado financeiro, e no último dia útil do ano, às 13h30.</p><p>§ 3º Quando fatos extraordinários assim o justificarem, observado o disposto no Regulamento do STR, o Banco Central do Brasil pode, com efeito para determinado dia de funcionamento, alterar os horários de abertura e de fechamento do horário regular de operações no STR, de que trata o § 1º, com a respectiva prorrogação da janela adicional, de que trata o § 2º deste artigo.</p><p>§ 4º O registro de solicitação da operação compromissada encaminhado durante o horário regular de operações no STR, atendidas as regras de negócio, ficará retido no Selic, sem que haja verificação ou transferência de custódia dos títulos e dos recursos financeiros, e será liquidado exclusivamente durante a janela adicional para aportes em Conta PI, após o fechamento do horário regular de operações no STR.</p><p>§ 5º Enquanto permanecer retido, o registro de solicitação da operação compromissada poderá ser cancelado pela instituição financeira, por meio do envio ao Selic de mensagem do Catálogo de Serviços do SFN, durante o horário regular de operações no STR.</p><p>§ 6º A operação cujo registro da solicitação for encaminhado durante a janela adicional para aportes em Conta PI será imediatamente liquidada.</p><p>Art. 15. A contratação da operação ocorre no momento da sua liquidação, durante a janela adicional para aportes em Conta PI, oportunidade na qual há a verificação da existência de títulos na custódia da instituição e a efetivação da movimentação financeira e a respectiva transferência dos títulos para a custódia do Banco Central do Brasil.</p><p>Parágrafo único. Caso a instituição financeira não possua títulos suficientes para liquidar a operação compromissada, não haverá a contratação e o Selic rejeitará a operação, não havendo a possibilidade de pendência por insuficiência de títulos.</p><p>Art. 16. A operação de recompra pela instituição financeira deverá ocorrer no dia útil seguinte ao da contratação da operação, durante o horário regular de operações no STR para liquidação de ordens de transferência de fundos, de que trata o art. 14, § 1º, deste Regulamento, por meio do envio de mensagem específica do Catálogo de Serviços do SFN, pela instituição financeira ao Selic.</p><p>§ 1º A operação de recompra deve ocorrer pelo preço de revenda de que trata o art. 10, inciso II, alínea \"c\", deste Regulamento.</p><p>§ 2º É admitido honrar em parcelas o compromisso de recompra, observado o prazo estabelecido no caput.</p><p>§ 3º O Selic processará a operação de recompra quando a receber e a encaminhará ao STR para que este comande a movimentação financeira ao SPI.</p><p>§ 4º Caso a instituição financeira não possua recursos financeiros suficientes em sua Conta PI para suportar o débito da operação de recompra, o comando será imediatamente rejeitado, não havendo a possibilidade de pendência por insuficiência de fundos.</p><p>Art. 17. A operação de redesconto de que trata esta Seção cujo compromisso de recompra não seja liquidado pela instituição financeira no prazo e nas condições estabelecidos no art. 16 será considerada inadimplida.</p><p>§ 1º Os títulos objeto das operações inadimplidas, nos termos deste artigo, serão incorporados à carteira própria do Banco Central do Brasil e vendidos em leilão.</p><p>§ 2º O eventual resultado negativo para o Banco Central do Brasil na venda desses títulos, apurado em leilão, deverá ser ressarcido pela instituição contraparte da operação inadimplida.</p><p>Art. 18. A operação de redesconto de que trata esta Seção não é passível de qualquer associação com outras operações registradas no Selic, o que inclui a impossibilidade de recompra associada à simultânea contratação de nova operação.</p><p>CAPÍTULO VI</p><p>DA LIQUIDAÇÃO FINANCEIRA E DA MOVIMENTAÇÃO DE CONTAS</p><p>Art. 19. A liquidação financeira e a movimentação em contas de custódia dos ativos objeto das operações de que trata este Regulamento subordinam-se às regras e aos procedimentos operacionais previstos nos regulamentos dos respectivos sistemas de liquidação.</p><p>Art. 20. A movimentação financeira relativa às operações de que trata este Regulamento é realizada:</p><p>I - na conta Reservas Bancárias ou na Conta de Liquidação mantida pela instituição financeira no Banco Central do Brasil nas operações de redesconto no âmbito do STR;</p><p>II - na Conta PI mantida pela instituição financeira no Banco Central do Brasil nas operações de redesconto no âmbito do SPI.</p><p>Art. 21. A movimentação financeira na conta Reservas Bancárias, na Conta de Liquidação ou na Conta PI da instituição caracteriza a liquidação definitiva das obrigações de compra, venda, recompra e revenda das operações de que trata este Regulamento.</p><p>Art. 22. A movimentação em contas de custódia dos títulos objeto da operação e a correspondente movimentação financeira são mutuamente condicionadas.</p>"
      ],
      "text/plain": [
       "<IPython.core.display.HTML object>"
      ]
     },
     "metadata": {},
     "output_type": "display_data"
    }
   ],
   "source": [
    "pub = r.iloc[0]\n",
    "\n",
    "print(\n",
    "    # f\"titulo -> {pub.titulo}\",\n",
    "    # f\"ementa -> {pub.ementa}\",\n",
    "    # f\"seção -> {pub.secao}\",\n",
    "    # f\"tipo normativo -> {pub.tipo_normativo}\",\n",
    "    f\"assinatura -> {pub.assinatura}\",\n",
    "    f\"motivo -> {pub.motivo}\",\n",
    "    sep=\"\\n\",\n",
    ")\n",
    "display(HTML(pub.conteudo))"
   ]
  }
 ],
 "metadata": {
  "interpreter": {
   "hash": "9384521135e3a8215cbd64640a6b06983e5ca81ec14aad7d592b0dff6c77c2d6"
  },
  "kernelspec": {
   "display_name": "Python 3.9.7 64-bit ('.venv': venv)",
   "language": "python",
   "name": "python3"
  },
  "language_info": {
   "codemirror_mode": {
    "name": "ipython",
    "version": 3
   },
   "file_extension": ".py",
   "mimetype": "text/x-python",
   "name": "python",
   "nbconvert_exporter": "python",
   "pygments_lexer": "ipython3",
   "version": "3.10.1"
  },
  "orig_nbformat": 4
 },
 "nbformat": 4,
 "nbformat_minor": 2
}
