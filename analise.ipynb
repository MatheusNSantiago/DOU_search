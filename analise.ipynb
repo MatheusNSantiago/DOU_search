{
 "cells": [
  {
   "cell_type": "code",
   "execution_count": 1,
   "metadata": {},
   "outputs": [],
   "source": [
    "\n",
    "%load_ext autoreload\n",
    "%autoreload 2\n",
    "\n",
    "from repository import PublicacoesDB\n",
    "from IPython.core.display import display, HTML\n",
    "from search import Search\n",
    "import warnings\n",
    "import pandas as pd\n",
    "from datetime import date\n",
    "\n",
    "warnings.filterwarnings(\"ignore\")"
   ]
  },
  {
   "cell_type": "code",
   "execution_count": 22,
   "metadata": {},
   "outputs": [],
   "source": [
    "with PublicacoesDB() as db:\n",
    "    df = db.query(\"SELECT * FROM publicacoes\")\n",
    "    \n",
    "    df.to_csv(\"files/publicacoes.csv\", index=False)\n",
    "    # df = pd.read_csv(\"files/publicacoes.csv\")\n"
   ]
  },
  {
   "cell_type": "code",
   "execution_count": 3,
   "metadata": {},
   "outputs": [],
   "source": [
    "s = Search(df, date(2021,11,11))\n",
    "# s = Search(df)"
   ]
  },
  {
   "cell_type": "code",
   "execution_count": 11,
   "metadata": {},
   "outputs": [],
   "source": [
    "s1 = s.keyword_search(\n",
    "# s.keyword_search(\n",
    "    columns=[\n",
    "        df.titulo,\n",
    "        df.conteudo,\n",
    "    ],\n",
    "    keywords=[\n",
    "        \"PORTARIA N° 111.908\",\n",
    "        \"DECRETO Nº 10.854\",\n",
    "        \"Despacho do Presidente do Banco Central do Brasil\",\n",
    "        \"PORTARIA ME Nº 12.975\"\n",
    "    ],\n",
    ")\n"
   ]
  },
  {
   "cell_type": "code",
   "execution_count": 21,
   "metadata": {},
   "outputs": [
    {
     "data": {
      "text/html": [
       "<div>\n",
       "<style scoped>\n",
       "    .dataframe tbody tr th:only-of-type {\n",
       "        vertical-align: middle;\n",
       "    }\n",
       "\n",
       "    .dataframe tbody tr th {\n",
       "        vertical-align: top;\n",
       "    }\n",
       "\n",
       "    .dataframe thead th {\n",
       "        text-align: right;\n",
       "    }\n",
       "</style>\n",
       "<table border=\"1\" class=\"dataframe\">\n",
       "  <thead>\n",
       "    <tr style=\"text-align: right;\">\n",
       "      <th></th>\n",
       "      <th>Unnamed: 0</th>\n",
       "      <th>id</th>\n",
       "      <th>secao</th>\n",
       "      <th>tipo_normativo</th>\n",
       "      <th>data</th>\n",
       "      <th>escopo</th>\n",
       "      <th>titulo</th>\n",
       "      <th>ementa</th>\n",
       "      <th>conteudo</th>\n",
       "      <th>assinatura</th>\n",
       "    </tr>\n",
       "  </thead>\n",
       "  <tbody>\n",
       "    <tr>\n",
       "      <th>145034</th>\n",
       "      <td>145034</td>\n",
       "      <td>22648540</td>\n",
       "      <td>DO2</td>\n",
       "      <td>Portaria</td>\n",
       "      <td>2021-11-11</td>\n",
       "      <td>Ministério da Economia/Banco Central do Brasil</td>\n",
       "      <td>PORTARIA N° 111.908, DE 10 DE NOVEMBRO DE 2021</td>\n",
       "      <td>NaN</td>\n",
       "      <td>&lt;p&gt;&lt;/p&gt;&lt;p class=\"identifica\"&gt;PORTARIA N° 111.9...</td>\n",
       "      <td>Roberto de Oliveira Campos Neto</td>\n",
       "    </tr>\n",
       "    <tr>\n",
       "      <th>153404</th>\n",
       "      <td>153404</td>\n",
       "      <td>22650333</td>\n",
       "      <td>DO1</td>\n",
       "      <td>Portaria</td>\n",
       "      <td>2021-11-11</td>\n",
       "      <td>Ministério da Economia/Gabinete do Ministro</td>\n",
       "      <td>PORTARIA ME Nº 12.975, DE 10 DE NOVEMBRO DE 2021</td>\n",
       "      <td>Atribui efeito vinculante, em relação à admini...</td>\n",
       "      <td>&lt;p class=\"identifica\"&gt;PORTARIA ME Nº 12.975, D...</td>\n",
       "      <td>PAULO GUEDES</td>\n",
       "    </tr>\n",
       "    <tr>\n",
       "      <th>153475</th>\n",
       "      <td>153475</td>\n",
       "      <td>22659640</td>\n",
       "      <td>DO1</td>\n",
       "      <td>Decreto numerado</td>\n",
       "      <td>2021-11-11</td>\n",
       "      <td>Atos do Poder Executivo</td>\n",
       "      <td>DECRETO Nº 10.854, DE 10 DE NOVEMBRO DE 2021</td>\n",
       "      <td>Regulamenta disposições relativas à legislação...</td>\n",
       "      <td>&lt;p class=\"identifica\"&gt;DECRETO Nº 10.854, DE 10...</td>\n",
       "      <td>NaN</td>\n",
       "    </tr>\n",
       "    <tr>\n",
       "      <th>145056</th>\n",
       "      <td>145056</td>\n",
       "      <td>22649569</td>\n",
       "      <td>DO2</td>\n",
       "      <td>Retificação</td>\n",
       "      <td>2021-11-11</td>\n",
       "      <td>Ministério da Economia/Banco Central do Brasil</td>\n",
       "      <td>RETIFICAÇÃO</td>\n",
       "      <td>NaN</td>\n",
       "      <td>&lt;p class=\"identifica\"&gt;RETIFICAÇÃO&lt;/p&gt;&lt;p&gt;No Des...</td>\n",
       "      <td>NaN</td>\n",
       "    </tr>\n",
       "  </tbody>\n",
       "</table>\n",
       "</div>"
      ],
      "text/plain": [
       "        Unnamed: 0        id secao    tipo_normativo        data  \\\n",
       "145034      145034  22648540   DO2          Portaria  2021-11-11   \n",
       "153404      153404  22650333   DO1          Portaria  2021-11-11   \n",
       "153475      153475  22659640   DO1  Decreto numerado  2021-11-11   \n",
       "145056      145056  22649569   DO2       Retificação  2021-11-11   \n",
       "\n",
       "                                                escopo  \\\n",
       "145034  Ministério da Economia/Banco Central do Brasil   \n",
       "153404     Ministério da Economia/Gabinete do Ministro   \n",
       "153475                         Atos do Poder Executivo   \n",
       "145056  Ministério da Economia/Banco Central do Brasil   \n",
       "\n",
       "                                                  titulo  \\\n",
       "145034    PORTARIA N° 111.908, DE 10 DE NOVEMBRO DE 2021   \n",
       "153404  PORTARIA ME Nº 12.975, DE 10 DE NOVEMBRO DE 2021   \n",
       "153475      DECRETO Nº 10.854, DE 10 DE NOVEMBRO DE 2021   \n",
       "145056                                       RETIFICAÇÃO   \n",
       "\n",
       "                                                   ementa  \\\n",
       "145034                                                NaN   \n",
       "153404  Atribui efeito vinculante, em relação à admini...   \n",
       "153475  Regulamenta disposições relativas à legislação...   \n",
       "145056                                                NaN   \n",
       "\n",
       "                                                 conteudo  \\\n",
       "145034  <p></p><p class=\"identifica\">PORTARIA N° 111.9...   \n",
       "153404  <p class=\"identifica\">PORTARIA ME Nº 12.975, D...   \n",
       "153475  <p class=\"identifica\">DECRETO Nº 10.854, DE 10...   \n",
       "145056  <p class=\"identifica\">RETIFICAÇÃO</p><p>No Des...   \n",
       "\n",
       "                             assinatura  \n",
       "145034  Roberto de Oliveira Campos Neto  \n",
       "153404                     PAULO GUEDES  \n",
       "153475                              NaN  \n",
       "145056                              NaN  "
      ]
     },
     "execution_count": 21,
     "metadata": {},
     "output_type": "execute_result"
    }
   ],
   "source": [
    "d1 = s1[0:-1]\n",
    "\n",
    "# d1.to_csv(\"Súmula 2021-11-11 | Edição 211\", index=False)"
   ]
  },
  {
   "cell_type": "code",
   "execution_count": 20,
   "metadata": {},
   "outputs": [
    {
     "data": {
      "text/html": [
       "<p class=\"identifica\">RETIFICAÇÃO</p><p>No Despacho do Presidente do Banco Central do Brasil, publicado no Diário Oficial da União de 28 de outubro de 2021, Seção 2, página 18, que trata da autorização para afastamento do país do Presidente do COAF, RICARDO LIÁO, onde se lê: \"no período de 16 a 17 de novembro de 2021, com ônus.\", leia-se: \"no período de 14 a 18 de novembro de 2021, com ônus para o COAF.\"</p>"
      ],
      "text/plain": [
       "<IPython.core.display.HTML object>"
      ]
     },
     "metadata": {},
     "output_type": "display_data"
    }
   ],
   "source": [
    "display(HTML(d1.iloc[-1].conteudo))"
   ]
  }
 ],
 "metadata": {
  "interpreter": {
   "hash": "9384521135e3a8215cbd64640a6b06983e5ca81ec14aad7d592b0dff6c77c2d6"
  },
  "kernelspec": {
   "display_name": "Python 3.9.7 64-bit ('.venv': venv)",
   "language": "python",
   "name": "python3"
  },
  "language_info": {
   "codemirror_mode": {
    "name": "ipython",
    "version": 3
   },
   "file_extension": ".py",
   "mimetype": "text/x-python",
   "name": "python",
   "nbconvert_exporter": "python",
   "pygments_lexer": "ipython3",
   "version": "3.9.7"
  },
  "orig_nbformat": 4
 },
 "nbformat": 4,
 "nbformat_minor": 2
}
